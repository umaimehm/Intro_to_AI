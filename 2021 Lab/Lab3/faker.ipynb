{
 "cells": [
  {
   "cell_type": "code",
   "execution_count": 8,
   "id": "c64aaefc",
   "metadata": {},
   "outputs": [],
   "source": [
    "from faker import Faker\n",
    "import pandas as pd\n",
    "from laundromat.spacy.spacy_model import SpacyModel\n",
    "from faker.providers.credit_card import Provider as CreditCardProvider #Add creditcards to faker"
   ]
  },
  {
   "cell_type": "code",
   "execution_count": null,
   "id": "9e9ae710",
   "metadata": {},
   "outputs": [],
   "source": []
  },
  {
   "cell_type": "code",
   "execution_count": 9,
   "id": "82283d25",
   "metadata": {},
   "outputs": [
    {
     "name": "stdout",
     "output_type": "stream",
     "text": [
      "2.3.2\n"
     ]
    }
   ],
   "source": [
    "import spacy\n",
    "print(spacy.__version__)"
   ]
  },
  {
   "cell_type": "code",
   "execution_count": 10,
   "id": "6ca8e740",
   "metadata": {},
   "outputs": [],
   "source": [
    "fake = Faker(['no_NO']) #Create a faker with norwegian Names and structures"
   ]
  },
  {
   "cell_type": "code",
   "execution_count": 11,
   "id": "0c8131c4",
   "metadata": {},
   "outputs": [],
   "source": [
    "df = pd.DataFrame(columns=['Navn','Adresse','PersonNr', 'CreditCard', 'ipv4']) # Create a empty df"
   ]
  },
  {
   "cell_type": "code",
   "execution_count": 12,
   "id": "732f4ab4",
   "metadata": {},
   "outputs": [],
   "source": [
    "for i in range(100):\n",
    "    row = fake.name(),fake.address(),fake.ssn(),fake.credit_card_number(),fake.ipv4()\n",
    "    df.loc[i]=row"
   ]
  },
  {
   "cell_type": "code",
   "execution_count": 13,
   "id": "66e55f1f",
   "metadata": {},
   "outputs": [
    {
     "data": {
      "text/html": [
       "<div>\n",
       "<style scoped>\n",
       "    .dataframe tbody tr th:only-of-type {\n",
       "        vertical-align: middle;\n",
       "    }\n",
       "\n",
       "    .dataframe tbody tr th {\n",
       "        vertical-align: top;\n",
       "    }\n",
       "\n",
       "    .dataframe thead th {\n",
       "        text-align: right;\n",
       "    }\n",
       "</style>\n",
       "<table border=\"1\" class=\"dataframe\">\n",
       "  <thead>\n",
       "    <tr style=\"text-align: right;\">\n",
       "      <th></th>\n",
       "      <th>Navn</th>\n",
       "      <th>Adresse</th>\n",
       "      <th>PersonNr</th>\n",
       "      <th>CreditCard</th>\n",
       "      <th>ipv4</th>\n",
       "    </tr>\n",
       "  </thead>\n",
       "  <tbody>\n",
       "    <tr>\n",
       "      <th>0</th>\n",
       "      <td>Laila Kristensen</td>\n",
       "      <td>Sandvikrøa 22, 3102 Lunde</td>\n",
       "      <td>11104848518</td>\n",
       "      <td>4673511042589729031</td>\n",
       "      <td>115.214.4.48</td>\n",
       "    </tr>\n",
       "    <tr>\n",
       "      <th>1</th>\n",
       "      <td>Hege Hanssen</td>\n",
       "      <td>Kristiansenhagen 12D, 8394 Hannevær</td>\n",
       "      <td>05085443129</td>\n",
       "      <td>3579229615301249</td>\n",
       "      <td>164.137.2.244</td>\n",
       "    </tr>\n",
       "    <tr>\n",
       "      <th>2</th>\n",
       "      <td>Håkon Nguyen</td>\n",
       "      <td>Knutsenhagen 20G, 9865 Myklebust</td>\n",
       "      <td>23033719930</td>\n",
       "      <td>5237908459543813</td>\n",
       "      <td>153.173.208.82</td>\n",
       "    </tr>\n",
       "    <tr>\n",
       "      <th>3</th>\n",
       "      <td>Rune Myklebust</td>\n",
       "      <td>Antonsenbråten 6D, 8628 Nguyen</td>\n",
       "      <td>30124214080</td>\n",
       "      <td>4393565735211129</td>\n",
       "      <td>64.202.81.122</td>\n",
       "    </tr>\n",
       "    <tr>\n",
       "      <th>4</th>\n",
       "      <td>Stine-Hege Thomassen</td>\n",
       "      <td>Kristoffersenstubben 144, 2154 Kjellstrand</td>\n",
       "      <td>30014944229</td>\n",
       "      <td>4156647065282917</td>\n",
       "      <td>66.129.241.192</td>\n",
       "    </tr>\n",
       "  </tbody>\n",
       "</table>\n",
       "</div>"
      ],
      "text/plain": [
       "                   Navn                                     Adresse  \\\n",
       "0      Laila Kristensen                   Sandvikrøa 22, 3102 Lunde   \n",
       "1          Hege Hanssen         Kristiansenhagen 12D, 8394 Hannevær   \n",
       "2          Håkon Nguyen            Knutsenhagen 20G, 9865 Myklebust   \n",
       "3        Rune Myklebust              Antonsenbråten 6D, 8628 Nguyen   \n",
       "4  Stine-Hege Thomassen  Kristoffersenstubben 144, 2154 Kjellstrand   \n",
       "\n",
       "      PersonNr           CreditCard            ipv4  \n",
       "0  11104848518  4673511042589729031    115.214.4.48  \n",
       "1  05085443129     3579229615301249   164.137.2.244  \n",
       "2  23033719930     5237908459543813  153.173.208.82  \n",
       "3  30124214080     4393565735211129   64.202.81.122  \n",
       "4  30014944229     4156647065282917  66.129.241.192  "
      ]
     },
     "execution_count": 13,
     "metadata": {},
     "output_type": "execute_result"
    }
   ],
   "source": [
    "df.head()\n"
   ]
  },
  {
   "cell_type": "code",
   "execution_count": 27,
   "id": "63f27a38",
   "metadata": {},
   "outputs": [
    {
     "data": {
      "text/plain": [
       "0.6"
      ]
     },
     "execution_count": 27,
     "metadata": {},
     "output_type": "execute_result"
    }
   ],
   "source": [
    "3/5"
   ]
  },
  {
   "cell_type": "code",
   "execution_count": 21,
   "id": "e1fe1d7b",
   "metadata": {},
   "outputs": [],
   "source": [
    "textArray = [] #Create a empty array\n",
    "for row in range(10):\n",
    "# Do a for loop, and assign values to name and adress\n",
    "    row=df.iloc[i]\n",
    "    name = row[0] \n",
    "    adress = row[1]\n",
    "    ssn = row[2]\n",
    "    cc = row[3]\n",
    "    #Using f string we can now create a new string with the values, and\n",
    "    #append (add) that string to the text array\n",
    "    textArray.append(f'Hi, my name is {name}. I wonder if you deliver to {adress}, my visa is {cc} and my ssn is {ssn}')"
   ]
  },
  {
   "cell_type": "code",
   "execution_count": 22,
   "id": "b7d549f3",
   "metadata": {},
   "outputs": [],
   "source": [
    "nlp = SpacyModel()"
   ]
  },
  {
   "cell_type": "code",
   "execution_count": 23,
   "id": "9de6413f",
   "metadata": {},
   "outputs": [
    {
     "name": "stdout",
     "output_type": "stream",
     "text": [
      "Hi, my name is Siri Danielsen. I wonder if you deliver to Henriksentjernet 049, 9062 Eliassen, my visa is 4853899966723 and my ssn is 03049943007\n",
      "Hi, my name is <PER>. I wonder if you deliver to Henriksentjernet 049, 9062 <PER>, my visa is 4853899966723 and my ssn is 03049943007\n",
      "\n",
      "Hi, my name is Siri Danielsen. I wonder if you deliver to Henriksentjernet 049, 9062 Eliassen, my visa is 4853899966723 and my ssn is 03049943007\n",
      "Hi, my name is <PER>. I wonder if you deliver to Henriksentjernet 049, 9062 <PER>, my visa is 4853899966723 and my ssn is 03049943007\n",
      "\n",
      "Hi, my name is Siri Danielsen. I wonder if you deliver to Henriksentjernet 049, 9062 Eliassen, my visa is 4853899966723 and my ssn is 03049943007\n",
      "Hi, my name is <PER>. I wonder if you deliver to Henriksentjernet 049, 9062 <PER>, my visa is 4853899966723 and my ssn is 03049943007\n",
      "\n",
      "Hi, my name is Siri Danielsen. I wonder if you deliver to Henriksentjernet 049, 9062 Eliassen, my visa is 4853899966723 and my ssn is 03049943007\n",
      "Hi, my name is <PER>. I wonder if you deliver to Henriksentjernet 049, 9062 <PER>, my visa is 4853899966723 and my ssn is 03049943007\n",
      "\n",
      "Hi, my name is Siri Danielsen. I wonder if you deliver to Henriksentjernet 049, 9062 Eliassen, my visa is 4853899966723 and my ssn is 03049943007\n",
      "Hi, my name is <PER>. I wonder if you deliver to Henriksentjernet 049, 9062 <PER>, my visa is 4853899966723 and my ssn is 03049943007\n",
      "\n",
      "Hi, my name is Siri Danielsen. I wonder if you deliver to Henriksentjernet 049, 9062 Eliassen, my visa is 4853899966723 and my ssn is 03049943007\n",
      "Hi, my name is <PER>. I wonder if you deliver to Henriksentjernet 049, 9062 <PER>, my visa is 4853899966723 and my ssn is 03049943007\n",
      "\n",
      "Hi, my name is Siri Danielsen. I wonder if you deliver to Henriksentjernet 049, 9062 Eliassen, my visa is 4853899966723 and my ssn is 03049943007\n",
      "Hi, my name is <PER>. I wonder if you deliver to Henriksentjernet 049, 9062 <PER>, my visa is 4853899966723 and my ssn is 03049943007\n",
      "\n",
      "Hi, my name is Siri Danielsen. I wonder if you deliver to Henriksentjernet 049, 9062 Eliassen, my visa is 4853899966723 and my ssn is 03049943007\n",
      "Hi, my name is <PER>. I wonder if you deliver to Henriksentjernet 049, 9062 <PER>, my visa is 4853899966723 and my ssn is 03049943007\n",
      "\n",
      "Hi, my name is Siri Danielsen. I wonder if you deliver to Henriksentjernet 049, 9062 Eliassen, my visa is 4853899966723 and my ssn is 03049943007\n",
      "Hi, my name is <PER>. I wonder if you deliver to Henriksentjernet 049, 9062 <PER>, my visa is 4853899966723 and my ssn is 03049943007\n",
      "\n",
      "Hi, my name is Siri Danielsen. I wonder if you deliver to Henriksentjernet 049, 9062 Eliassen, my visa is 4853899966723 and my ssn is 03049943007\n",
      "Hi, my name is <PER>. I wonder if you deliver to Henriksentjernet 049, 9062 <PER>, my visa is 4853899966723 and my ssn is 03049943007\n",
      "\n"
     ]
    }
   ],
   "source": [
    "for line in textArray:\n",
    "    entities = nlp.predict(line)\n",
    "    replaced_text_1 = nlp.replace(line, replacement=\"entity\", replacement_char=\":^)\")\n",
    "    print(line)\n",
    "    print(replaced_text_1+'\\n')"
   ]
  },
  {
   "cell_type": "code",
   "execution_count": 24,
   "id": "5666c30f",
   "metadata": {},
   "outputs": [
    {
     "name": "stdout",
     "output_type": "stream",
     "text": [
      "FNR\n",
      "CREDIT_CARD\n",
      "TLF\n",
      "DTM\n",
      "AMOUNT\n"
     ]
    }
   ],
   "source": [
    "nlp.add_patterns(lookup=True)\n",
    "nlp.print_regex_labels()"
   ]
  },
  {
   "cell_type": "code",
   "execution_count": 26,
   "id": "003fa342",
   "metadata": {},
   "outputs": [
    {
     "name": "stdout",
     "output_type": "stream",
     "text": [
      "Hi, my name is Siri Danielsen. I wonder if you deliver to Henriksentjernet 049, 9062 Eliassen, my visa is 4853899966723 and my ssn is 03049943007\n",
      "Hi, my name is <PER>. I wonder if you deliver to Henriksentjernet <DTM>, 9062 <PER>, my visa is <CREDIT_CARD> and my ssn is 03<DTM>943007\n",
      "\n",
      "Hi, my name is Siri Danielsen. I wonder if you deliver to Henriksentjernet 049, 9062 Eliassen, my visa is 4853899966723 and my ssn is 03049943007\n",
      "Hi, my name is <PER>. I wonder if you deliver to Henriksentjernet <DTM>, 9062 <PER>, my visa is <CREDIT_CARD> and my ssn is 03<DTM>943007\n",
      "\n",
      "Hi, my name is Siri Danielsen. I wonder if you deliver to Henriksentjernet 049, 9062 Eliassen, my visa is 4853899966723 and my ssn is 03049943007\n",
      "Hi, my name is <PER>. I wonder if you deliver to Henriksentjernet <DTM>, 9062 <PER>, my visa is <CREDIT_CARD> and my ssn is 03<DTM>943007\n",
      "\n",
      "Hi, my name is Siri Danielsen. I wonder if you deliver to Henriksentjernet 049, 9062 Eliassen, my visa is 4853899966723 and my ssn is 03049943007\n",
      "Hi, my name is <PER>. I wonder if you deliver to Henriksentjernet <DTM>, 9062 <PER>, my visa is <CREDIT_CARD> and my ssn is 03<DTM>943007\n",
      "\n",
      "Hi, my name is Siri Danielsen. I wonder if you deliver to Henriksentjernet 049, 9062 Eliassen, my visa is 4853899966723 and my ssn is 03049943007\n",
      "Hi, my name is <PER>. I wonder if you deliver to Henriksentjernet <DTM>, 9062 <PER>, my visa is <CREDIT_CARD> and my ssn is 03<DTM>943007\n",
      "\n",
      "Hi, my name is Siri Danielsen. I wonder if you deliver to Henriksentjernet 049, 9062 Eliassen, my visa is 4853899966723 and my ssn is 03049943007\n",
      "Hi, my name is <PER>. I wonder if you deliver to Henriksentjernet <DTM>, 9062 <PER>, my visa is <CREDIT_CARD> and my ssn is 03<DTM>943007\n",
      "\n",
      "Hi, my name is Siri Danielsen. I wonder if you deliver to Henriksentjernet 049, 9062 Eliassen, my visa is 4853899966723 and my ssn is 03049943007\n",
      "Hi, my name is <PER>. I wonder if you deliver to Henriksentjernet <DTM>, 9062 <PER>, my visa is <CREDIT_CARD> and my ssn is 03<DTM>943007\n",
      "\n",
      "Hi, my name is Siri Danielsen. I wonder if you deliver to Henriksentjernet 049, 9062 Eliassen, my visa is 4853899966723 and my ssn is 03049943007\n",
      "Hi, my name is <PER>. I wonder if you deliver to Henriksentjernet <DTM>, 9062 <PER>, my visa is <CREDIT_CARD> and my ssn is 03<DTM>943007\n",
      "\n",
      "Hi, my name is Siri Danielsen. I wonder if you deliver to Henriksentjernet 049, 9062 Eliassen, my visa is 4853899966723 and my ssn is 03049943007\n",
      "Hi, my name is <PER>. I wonder if you deliver to Henriksentjernet <DTM>, 9062 <PER>, my visa is <CREDIT_CARD> and my ssn is 03<DTM>943007\n",
      "\n",
      "Hi, my name is Siri Danielsen. I wonder if you deliver to Henriksentjernet 049, 9062 Eliassen, my visa is 4853899966723 and my ssn is 03049943007\n",
      "Hi, my name is <PER>. I wonder if you deliver to Henriksentjernet <DTM>, 9062 <PER>, my visa is <CREDIT_CARD> and my ssn is 03<DTM>943007\n",
      "\n"
     ]
    }
   ],
   "source": [
    "for line in textArray:\n",
    "    entities = nlp.predict(line)\n",
    "    replaced_text_1 = nlp.replace(line, replacement=\"entity\", replacement_char=\":^)\")\n",
    "    print(line)\n",
    "    print(replaced_text_1+'\\n')"
   ]
  },
  {
   "cell_type": "code",
   "execution_count": null,
   "id": "26841924",
   "metadata": {},
   "outputs": [],
   "source": []
  }
 ],
 "metadata": {
  "kernelspec": {
   "display_name": "Python 3 (ipykernel)",
   "language": "python",
   "name": "python3"
  },
  "language_info": {
   "codemirror_mode": {
    "name": "ipython",
    "version": 3
   },
   "file_extension": ".py",
   "mimetype": "text/x-python",
   "name": "python",
   "nbconvert_exporter": "python",
   "pygments_lexer": "ipython3",
   "version": "3.8.11"
  }
 },
 "nbformat": 4,
 "nbformat_minor": 5
}
