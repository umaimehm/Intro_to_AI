{
 "cells": [
  {
   "cell_type": "code",
   "execution_count": 52,
   "id": "6a653942",
   "metadata": {},
   "outputs": [],
   "source": [
    "%matplotlib inline\n",
    "import pandas as pd\n",
    "import numpy as np\n",
    "import matplotlib.pyplot as plt\n",
    "import datetime"
   ]
  },
  {
   "cell_type": "code",
   "execution_count": 53,
   "id": "4812ffbe",
   "metadata": {},
   "outputs": [],
   "source": [
    "url = \"data/flight.csv\""
   ]
  },
  {
   "cell_type": "code",
   "execution_count": 54,
   "id": "8fc906f1",
   "metadata": {},
   "outputs": [],
   "source": [
    "df = pd.read_csv(url)"
   ]
  },
  {
   "cell_type": "code",
   "execution_count": 55,
   "id": "ae7ef220",
   "metadata": {},
   "outputs": [
    {
     "data": {
      "text/html": [
       "<div>\n",
       "<style scoped>\n",
       "    .dataframe tbody tr th:only-of-type {\n",
       "        vertical-align: middle;\n",
       "    }\n",
       "\n",
       "    .dataframe tbody tr th {\n",
       "        vertical-align: top;\n",
       "    }\n",
       "\n",
       "    .dataframe thead th {\n",
       "        text-align: right;\n",
       "    }\n",
       "</style>\n",
       "<table border=\"1\" class=\"dataframe\">\n",
       "  <thead>\n",
       "    <tr style=\"text-align: right;\">\n",
       "      <th></th>\n",
       "      <th>Unnamed: 0</th>\n",
       "      <th>datetime_val</th>\n",
       "      <th>dep_time</th>\n",
       "      <th>arr_time</th>\n",
       "      <th>sched_arr_time</th>\n",
       "      <th>flight</th>\n",
       "      <th>origin</th>\n",
       "      <th>dest</th>\n",
       "    </tr>\n",
       "  </thead>\n",
       "  <tbody>\n",
       "    <tr>\n",
       "      <th>0</th>\n",
       "      <td>0</td>\n",
       "      <td>2013-1-1 05:40:00</td>\n",
       "      <td>2013-1-1 05:42:00</td>\n",
       "      <td>2013-1-1 09:23:00</td>\n",
       "      <td>2013-1-1 08:50:00</td>\n",
       "      <td>1141</td>\n",
       "      <td>JFK</td>\n",
       "      <td>MIA</td>\n",
       "    </tr>\n",
       "    <tr>\n",
       "      <th>1</th>\n",
       "      <td>1</td>\n",
       "      <td>2013-1-1 06:00:00</td>\n",
       "      <td>2013-1-1 05:54:00</td>\n",
       "      <td>2013-1-1 08:12:00</td>\n",
       "      <td>2013-1-1 08:37:00</td>\n",
       "      <td>461</td>\n",
       "      <td>LGA</td>\n",
       "      <td>ATL</td>\n",
       "    </tr>\n",
       "    <tr>\n",
       "      <th>2</th>\n",
       "      <td>2</td>\n",
       "      <td>2013-1-1 05:58:00</td>\n",
       "      <td>2013-1-1 05:54:00</td>\n",
       "      <td>2013-1-1 07:40:00</td>\n",
       "      <td>2013-1-1 07:28:00</td>\n",
       "      <td>1696</td>\n",
       "      <td>EWR</td>\n",
       "      <td>ORD</td>\n",
       "    </tr>\n",
       "    <tr>\n",
       "      <th>3</th>\n",
       "      <td>3</td>\n",
       "      <td>2013-1-1 06:00:00</td>\n",
       "      <td>2013-1-1 05:55:00</td>\n",
       "      <td>2013-1-1 09:13:00</td>\n",
       "      <td>2013-1-1 08:54:00</td>\n",
       "      <td>507</td>\n",
       "      <td>EWR</td>\n",
       "      <td>FLL</td>\n",
       "    </tr>\n",
       "    <tr>\n",
       "      <th>4</th>\n",
       "      <td>4</td>\n",
       "      <td>2013-1-1 06:00:00</td>\n",
       "      <td>2013-1-1 05:57:00</td>\n",
       "      <td>2013-1-1 08:38:00</td>\n",
       "      <td>2013-1-1 08:46:00</td>\n",
       "      <td>79</td>\n",
       "      <td>JFK</td>\n",
       "      <td>MCO</td>\n",
       "    </tr>\n",
       "  </tbody>\n",
       "</table>\n",
       "</div>"
      ],
      "text/plain": [
       "   Unnamed: 0       datetime_val           dep_time           arr_time  \\\n",
       "0           0  2013-1-1 05:40:00  2013-1-1 05:42:00  2013-1-1 09:23:00   \n",
       "1           1  2013-1-1 06:00:00  2013-1-1 05:54:00  2013-1-1 08:12:00   \n",
       "2           2  2013-1-1 05:58:00  2013-1-1 05:54:00  2013-1-1 07:40:00   \n",
       "3           3  2013-1-1 06:00:00  2013-1-1 05:55:00  2013-1-1 09:13:00   \n",
       "4           4  2013-1-1 06:00:00  2013-1-1 05:57:00  2013-1-1 08:38:00   \n",
       "\n",
       "      sched_arr_time  flight origin dest  \n",
       "0  2013-1-1 08:50:00    1141    JFK  MIA  \n",
       "1  2013-1-1 08:37:00     461    LGA  ATL  \n",
       "2  2013-1-1 07:28:00    1696    EWR  ORD  \n",
       "3  2013-1-1 08:54:00     507    EWR  FLL  \n",
       "4  2013-1-1 08:46:00      79    JFK  MCO  "
      ]
     },
     "execution_count": 55,
     "metadata": {},
     "output_type": "execute_result"
    }
   ],
   "source": [
    "df.head()"
   ]
  },
  {
   "cell_type": "code",
   "execution_count": null,
   "id": "96f0d0ad",
   "metadata": {},
   "outputs": [],
   "source": []
  },
  {
   "cell_type": "code",
   "execution_count": 56,
   "id": "1bc47947",
   "metadata": {},
   "outputs": [],
   "source": [
    "df['datetime_val'] = pd.to_datetime(df['datetime_val'], errors='coerce') \n",
    "df['dep_time'] = pd.to_datetime(df['dep_time'], errors='coerce')\n",
    "df['arr_time'] = pd.to_datetime(df['arr_time'], errors='coerce')\n",
    "df['sched_arr_time'] = pd.to_datetime(df['sched_arr_time'], errors='coerce')\n",
    "#or use errors='coerce' to put a NaT value (NaT = dummy var for missing value)"
   ]
  },
  {
   "cell_type": "code",
   "execution_count": 57,
   "id": "f4be9563",
   "metadata": {},
   "outputs": [],
   "source": [
    "for index, row in df.iterrows():\n",
    "    #if air_time is negative\n",
    "    if (row['arr_time']<row['dep_time']):\n",
    "        df.loc[index, 'arr_time'] = (row['arr_time'])+ datetime.timedelta(days=1)\n",
    "    if (row['sched_arr_time']<row['dep_time']):\n",
    "        df.loc[index, 'sched_arr_time'] = (row['sched_arr_time'])+ datetime.timedelta(days=1)\n",
    "        "
   ]
  },
  {
   "cell_type": "code",
   "execution_count": 58,
   "id": "b6b92a34",
   "metadata": {},
   "outputs": [],
   "source": [
    "df['air_time'] = df[\"arr_time\"]-df[\"dep_time\"]\n",
    "df['delay'] = df[\"arr_time\"]-df[\"sched_arr_time\"]"
   ]
  },
  {
   "cell_type": "code",
   "execution_count": 59,
   "id": "b01416e6",
   "metadata": {},
   "outputs": [
    {
     "data": {
      "text/html": [
       "<div>\n",
       "<style scoped>\n",
       "    .dataframe tbody tr th:only-of-type {\n",
       "        vertical-align: middle;\n",
       "    }\n",
       "\n",
       "    .dataframe tbody tr th {\n",
       "        vertical-align: top;\n",
       "    }\n",
       "\n",
       "    .dataframe thead th {\n",
       "        text-align: right;\n",
       "    }\n",
       "</style>\n",
       "<table border=\"1\" class=\"dataframe\">\n",
       "  <thead>\n",
       "    <tr style=\"text-align: right;\">\n",
       "      <th></th>\n",
       "      <th>Unnamed: 0</th>\n",
       "      <th>datetime_val</th>\n",
       "      <th>dep_time</th>\n",
       "      <th>arr_time</th>\n",
       "      <th>sched_arr_time</th>\n",
       "      <th>flight</th>\n",
       "      <th>origin</th>\n",
       "      <th>dest</th>\n",
       "      <th>air_time</th>\n",
       "      <th>delay</th>\n",
       "    </tr>\n",
       "  </thead>\n",
       "  <tbody>\n",
       "    <tr>\n",
       "      <th>0</th>\n",
       "      <td>0</td>\n",
       "      <td>2013-01-01 05:40:00</td>\n",
       "      <td>2013-01-01 05:42:00</td>\n",
       "      <td>2013-01-01 09:23:00</td>\n",
       "      <td>2013-01-01 08:50:00</td>\n",
       "      <td>1141</td>\n",
       "      <td>JFK</td>\n",
       "      <td>MIA</td>\n",
       "      <td>0 days 03:41:00</td>\n",
       "      <td>0 days 00:33:00</td>\n",
       "    </tr>\n",
       "    <tr>\n",
       "      <th>1</th>\n",
       "      <td>1</td>\n",
       "      <td>2013-01-01 06:00:00</td>\n",
       "      <td>2013-01-01 05:54:00</td>\n",
       "      <td>2013-01-01 08:12:00</td>\n",
       "      <td>2013-01-01 08:37:00</td>\n",
       "      <td>461</td>\n",
       "      <td>LGA</td>\n",
       "      <td>ATL</td>\n",
       "      <td>0 days 02:18:00</td>\n",
       "      <td>-1 days +23:35:00</td>\n",
       "    </tr>\n",
       "    <tr>\n",
       "      <th>2</th>\n",
       "      <td>2</td>\n",
       "      <td>2013-01-01 05:58:00</td>\n",
       "      <td>2013-01-01 05:54:00</td>\n",
       "      <td>2013-01-01 07:40:00</td>\n",
       "      <td>2013-01-01 07:28:00</td>\n",
       "      <td>1696</td>\n",
       "      <td>EWR</td>\n",
       "      <td>ORD</td>\n",
       "      <td>0 days 01:46:00</td>\n",
       "      <td>0 days 00:12:00</td>\n",
       "    </tr>\n",
       "    <tr>\n",
       "      <th>3</th>\n",
       "      <td>3</td>\n",
       "      <td>2013-01-01 06:00:00</td>\n",
       "      <td>2013-01-01 05:55:00</td>\n",
       "      <td>2013-01-01 09:13:00</td>\n",
       "      <td>2013-01-01 08:54:00</td>\n",
       "      <td>507</td>\n",
       "      <td>EWR</td>\n",
       "      <td>FLL</td>\n",
       "      <td>0 days 03:18:00</td>\n",
       "      <td>0 days 00:19:00</td>\n",
       "    </tr>\n",
       "    <tr>\n",
       "      <th>4</th>\n",
       "      <td>4</td>\n",
       "      <td>2013-01-01 06:00:00</td>\n",
       "      <td>2013-01-01 05:57:00</td>\n",
       "      <td>2013-01-01 08:38:00</td>\n",
       "      <td>2013-01-01 08:46:00</td>\n",
       "      <td>79</td>\n",
       "      <td>JFK</td>\n",
       "      <td>MCO</td>\n",
       "      <td>0 days 02:41:00</td>\n",
       "      <td>-1 days +23:52:00</td>\n",
       "    </tr>\n",
       "    <tr>\n",
       "      <th>...</th>\n",
       "      <td>...</td>\n",
       "      <td>...</td>\n",
       "      <td>...</td>\n",
       "      <td>...</td>\n",
       "      <td>...</td>\n",
       "      <td>...</td>\n",
       "      <td>...</td>\n",
       "      <td>...</td>\n",
       "      <td>...</td>\n",
       "      <td>...</td>\n",
       "    </tr>\n",
       "    <tr>\n",
       "      <th>121422</th>\n",
       "      <td>123979</td>\n",
       "      <td>2013-09-30 21:37:00</td>\n",
       "      <td>2013-09-30 21:47:00</td>\n",
       "      <td>2013-10-01 00:30:00</td>\n",
       "      <td>2013-10-01 00:27:00</td>\n",
       "      <td>1371</td>\n",
       "      <td>LGA</td>\n",
       "      <td>FLL</td>\n",
       "      <td>0 days 02:43:00</td>\n",
       "      <td>0 days 00:03:00</td>\n",
       "    </tr>\n",
       "    <tr>\n",
       "      <th>121423</th>\n",
       "      <td>123980</td>\n",
       "      <td>2013-09-30 21:56:00</td>\n",
       "      <td>2013-09-30 21:49:00</td>\n",
       "      <td>2013-09-30 22:45:00</td>\n",
       "      <td>2013-09-30 23:08:00</td>\n",
       "      <td>523</td>\n",
       "      <td>EWR</td>\n",
       "      <td>BOS</td>\n",
       "      <td>0 days 00:56:00</td>\n",
       "      <td>-1 days +23:37:00</td>\n",
       "    </tr>\n",
       "    <tr>\n",
       "      <th>121424</th>\n",
       "      <td>123981</td>\n",
       "      <td>2013-09-30 21:13:00</td>\n",
       "      <td>2013-09-30 22:33:00</td>\n",
       "      <td>2013-10-01 01:12:00</td>\n",
       "      <td>2013-10-01 00:30:00</td>\n",
       "      <td>471</td>\n",
       "      <td>EWR</td>\n",
       "      <td>SFO</td>\n",
       "      <td>0 days 02:39:00</td>\n",
       "      <td>0 days 00:42:00</td>\n",
       "    </tr>\n",
       "    <tr>\n",
       "      <th>121425</th>\n",
       "      <td>123982</td>\n",
       "      <td>2013-09-30 20:01:00</td>\n",
       "      <td>2013-09-30 22:35:00</td>\n",
       "      <td>2013-10-01 00:59:00</td>\n",
       "      <td>2013-09-30 22:49:00</td>\n",
       "      <td>1083</td>\n",
       "      <td>JFK</td>\n",
       "      <td>MCO</td>\n",
       "      <td>0 days 02:24:00</td>\n",
       "      <td>0 days 02:10:00</td>\n",
       "    </tr>\n",
       "    <tr>\n",
       "      <th>121426</th>\n",
       "      <td>123983</td>\n",
       "      <td>2013-09-30 22:55:00</td>\n",
       "      <td>2013-09-30 23:07:00</td>\n",
       "      <td>2013-09-30 23:59:00</td>\n",
       "      <td>2013-09-30 23:58:00</td>\n",
       "      <td>718</td>\n",
       "      <td>JFK</td>\n",
       "      <td>BOS</td>\n",
       "      <td>0 days 00:52:00</td>\n",
       "      <td>0 days 00:01:00</td>\n",
       "    </tr>\n",
       "  </tbody>\n",
       "</table>\n",
       "<p>121427 rows × 10 columns</p>\n",
       "</div>"
      ],
      "text/plain": [
       "        Unnamed: 0        datetime_val            dep_time  \\\n",
       "0                0 2013-01-01 05:40:00 2013-01-01 05:42:00   \n",
       "1                1 2013-01-01 06:00:00 2013-01-01 05:54:00   \n",
       "2                2 2013-01-01 05:58:00 2013-01-01 05:54:00   \n",
       "3                3 2013-01-01 06:00:00 2013-01-01 05:55:00   \n",
       "4                4 2013-01-01 06:00:00 2013-01-01 05:57:00   \n",
       "...            ...                 ...                 ...   \n",
       "121422      123979 2013-09-30 21:37:00 2013-09-30 21:47:00   \n",
       "121423      123980 2013-09-30 21:56:00 2013-09-30 21:49:00   \n",
       "121424      123981 2013-09-30 21:13:00 2013-09-30 22:33:00   \n",
       "121425      123982 2013-09-30 20:01:00 2013-09-30 22:35:00   \n",
       "121426      123983 2013-09-30 22:55:00 2013-09-30 23:07:00   \n",
       "\n",
       "                  arr_time      sched_arr_time  flight origin dest  \\\n",
       "0      2013-01-01 09:23:00 2013-01-01 08:50:00    1141    JFK  MIA   \n",
       "1      2013-01-01 08:12:00 2013-01-01 08:37:00     461    LGA  ATL   \n",
       "2      2013-01-01 07:40:00 2013-01-01 07:28:00    1696    EWR  ORD   \n",
       "3      2013-01-01 09:13:00 2013-01-01 08:54:00     507    EWR  FLL   \n",
       "4      2013-01-01 08:38:00 2013-01-01 08:46:00      79    JFK  MCO   \n",
       "...                    ...                 ...     ...    ...  ...   \n",
       "121422 2013-10-01 00:30:00 2013-10-01 00:27:00    1371    LGA  FLL   \n",
       "121423 2013-09-30 22:45:00 2013-09-30 23:08:00     523    EWR  BOS   \n",
       "121424 2013-10-01 01:12:00 2013-10-01 00:30:00     471    EWR  SFO   \n",
       "121425 2013-10-01 00:59:00 2013-09-30 22:49:00    1083    JFK  MCO   \n",
       "121426 2013-09-30 23:59:00 2013-09-30 23:58:00     718    JFK  BOS   \n",
       "\n",
       "              air_time             delay  \n",
       "0      0 days 03:41:00   0 days 00:33:00  \n",
       "1      0 days 02:18:00 -1 days +23:35:00  \n",
       "2      0 days 01:46:00   0 days 00:12:00  \n",
       "3      0 days 03:18:00   0 days 00:19:00  \n",
       "4      0 days 02:41:00 -1 days +23:52:00  \n",
       "...                ...               ...  \n",
       "121422 0 days 02:43:00   0 days 00:03:00  \n",
       "121423 0 days 00:56:00 -1 days +23:37:00  \n",
       "121424 0 days 02:39:00   0 days 00:42:00  \n",
       "121425 0 days 02:24:00   0 days 02:10:00  \n",
       "121426 0 days 00:52:00   0 days 00:01:00  \n",
       "\n",
       "[121427 rows x 10 columns]"
      ]
     },
     "execution_count": 59,
     "metadata": {},
     "output_type": "execute_result"
    }
   ],
   "source": [
    "df"
   ]
  },
  {
   "cell_type": "code",
   "execution_count": 18,
   "id": "9def5398",
   "metadata": {},
   "outputs": [],
   "source": [
    "#For every row in df\n",
    "for index, row in df.iterrows():\n",
    "    #if air_time is negative\n",
    "    if (row['air_time'].days < 0):\n",
    "        #Find the row with df.loc                      Take 24 hrs, - air_time + negative days (could be replaced with 1)\n",
    "        #df.loc[index, 'air_time'] = datetime.timedelta(hours=24)-(row['air_time'] + datetime.timedelta(abs(row['air_time'].days)))\n",
    "        df.loc[index, 'air_time'] = datetime.timedelta(hours=24)-(row['air_time'])"
   ]
  },
  {
   "cell_type": "code",
   "execution_count": 67,
   "id": "91e3532b",
   "metadata": {},
   "outputs": [],
   "source": [
    "df.to_csv(\"t2s.csv\")"
   ]
  },
  {
   "cell_type": "code",
   "execution_count": 62,
   "id": "9b5b6bd5",
   "metadata": {},
   "outputs": [
    {
     "name": "stdout",
     "output_type": "stream",
     "text": [
      "0 days 02:18:00 -1 days +23:35:00\n"
     ]
    }
   ],
   "source": [
    "airt = df.loc[1, 'air_time']\n",
    "dela = df.loc[1, 'delay']\n",
    "print(airt, dela)"
   ]
  },
  {
   "cell_type": "code",
   "execution_count": 63,
   "id": "892681cd",
   "metadata": {},
   "outputs": [
    {
     "data": {
      "text/plain": [
       "-18.115942028985508"
      ]
     },
     "execution_count": 63,
     "metadata": {},
     "output_type": "execute_result"
    }
   ],
   "source": [
    "(100*dela)/airt"
   ]
  },
  {
   "cell_type": "code",
   "execution_count": 64,
   "id": "742c5795",
   "metadata": {},
   "outputs": [],
   "source": [
    "df[\"percent_delay\"] = (100 * df['delay'])/df['air_time']"
   ]
  },
  {
   "cell_type": "code",
   "execution_count": 65,
   "id": "b4e04fc0",
   "metadata": {},
   "outputs": [
    {
     "data": {
      "text/html": [
       "<div>\n",
       "<style scoped>\n",
       "    .dataframe tbody tr th:only-of-type {\n",
       "        vertical-align: middle;\n",
       "    }\n",
       "\n",
       "    .dataframe tbody tr th {\n",
       "        vertical-align: top;\n",
       "    }\n",
       "\n",
       "    .dataframe thead th {\n",
       "        text-align: right;\n",
       "    }\n",
       "</style>\n",
       "<table border=\"1\" class=\"dataframe\">\n",
       "  <thead>\n",
       "    <tr style=\"text-align: right;\">\n",
       "      <th></th>\n",
       "      <th>Unnamed: 0</th>\n",
       "      <th>datetime_val</th>\n",
       "      <th>dep_time</th>\n",
       "      <th>arr_time</th>\n",
       "      <th>sched_arr_time</th>\n",
       "      <th>flight</th>\n",
       "      <th>origin</th>\n",
       "      <th>dest</th>\n",
       "      <th>air_time</th>\n",
       "      <th>delay</th>\n",
       "      <th>percent_delay</th>\n",
       "    </tr>\n",
       "  </thead>\n",
       "  <tbody>\n",
       "    <tr>\n",
       "      <th>0</th>\n",
       "      <td>0</td>\n",
       "      <td>2013-01-01 05:40:00</td>\n",
       "      <td>2013-01-01 05:42:00</td>\n",
       "      <td>2013-01-01 09:23:00</td>\n",
       "      <td>2013-01-01 08:50:00</td>\n",
       "      <td>1141</td>\n",
       "      <td>JFK</td>\n",
       "      <td>MIA</td>\n",
       "      <td>0 days 03:41:00</td>\n",
       "      <td>0 days 00:33:00</td>\n",
       "      <td>14.932127</td>\n",
       "    </tr>\n",
       "    <tr>\n",
       "      <th>1</th>\n",
       "      <td>1</td>\n",
       "      <td>2013-01-01 06:00:00</td>\n",
       "      <td>2013-01-01 05:54:00</td>\n",
       "      <td>2013-01-01 08:12:00</td>\n",
       "      <td>2013-01-01 08:37:00</td>\n",
       "      <td>461</td>\n",
       "      <td>LGA</td>\n",
       "      <td>ATL</td>\n",
       "      <td>0 days 02:18:00</td>\n",
       "      <td>-1 days +23:35:00</td>\n",
       "      <td>-18.115942</td>\n",
       "    </tr>\n",
       "    <tr>\n",
       "      <th>2</th>\n",
       "      <td>2</td>\n",
       "      <td>2013-01-01 05:58:00</td>\n",
       "      <td>2013-01-01 05:54:00</td>\n",
       "      <td>2013-01-01 07:40:00</td>\n",
       "      <td>2013-01-01 07:28:00</td>\n",
       "      <td>1696</td>\n",
       "      <td>EWR</td>\n",
       "      <td>ORD</td>\n",
       "      <td>0 days 01:46:00</td>\n",
       "      <td>0 days 00:12:00</td>\n",
       "      <td>11.320755</td>\n",
       "    </tr>\n",
       "    <tr>\n",
       "      <th>3</th>\n",
       "      <td>3</td>\n",
       "      <td>2013-01-01 06:00:00</td>\n",
       "      <td>2013-01-01 05:55:00</td>\n",
       "      <td>2013-01-01 09:13:00</td>\n",
       "      <td>2013-01-01 08:54:00</td>\n",
       "      <td>507</td>\n",
       "      <td>EWR</td>\n",
       "      <td>FLL</td>\n",
       "      <td>0 days 03:18:00</td>\n",
       "      <td>0 days 00:19:00</td>\n",
       "      <td>9.595960</td>\n",
       "    </tr>\n",
       "    <tr>\n",
       "      <th>4</th>\n",
       "      <td>4</td>\n",
       "      <td>2013-01-01 06:00:00</td>\n",
       "      <td>2013-01-01 05:57:00</td>\n",
       "      <td>2013-01-01 08:38:00</td>\n",
       "      <td>2013-01-01 08:46:00</td>\n",
       "      <td>79</td>\n",
       "      <td>JFK</td>\n",
       "      <td>MCO</td>\n",
       "      <td>0 days 02:41:00</td>\n",
       "      <td>-1 days +23:52:00</td>\n",
       "      <td>-4.968944</td>\n",
       "    </tr>\n",
       "  </tbody>\n",
       "</table>\n",
       "</div>"
      ],
      "text/plain": [
       "   Unnamed: 0        datetime_val            dep_time            arr_time  \\\n",
       "0           0 2013-01-01 05:40:00 2013-01-01 05:42:00 2013-01-01 09:23:00   \n",
       "1           1 2013-01-01 06:00:00 2013-01-01 05:54:00 2013-01-01 08:12:00   \n",
       "2           2 2013-01-01 05:58:00 2013-01-01 05:54:00 2013-01-01 07:40:00   \n",
       "3           3 2013-01-01 06:00:00 2013-01-01 05:55:00 2013-01-01 09:13:00   \n",
       "4           4 2013-01-01 06:00:00 2013-01-01 05:57:00 2013-01-01 08:38:00   \n",
       "\n",
       "       sched_arr_time  flight origin dest        air_time             delay  \\\n",
       "0 2013-01-01 08:50:00    1141    JFK  MIA 0 days 03:41:00   0 days 00:33:00   \n",
       "1 2013-01-01 08:37:00     461    LGA  ATL 0 days 02:18:00 -1 days +23:35:00   \n",
       "2 2013-01-01 07:28:00    1696    EWR  ORD 0 days 01:46:00   0 days 00:12:00   \n",
       "3 2013-01-01 08:54:00     507    EWR  FLL 0 days 03:18:00   0 days 00:19:00   \n",
       "4 2013-01-01 08:46:00      79    JFK  MCO 0 days 02:41:00 -1 days +23:52:00   \n",
       "\n",
       "   percent_delay  \n",
       "0      14.932127  \n",
       "1     -18.115942  \n",
       "2      11.320755  \n",
       "3       9.595960  \n",
       "4      -4.968944  "
      ]
     },
     "execution_count": 65,
     "metadata": {},
     "output_type": "execute_result"
    }
   ],
   "source": [
    "df.head()"
   ]
  },
  {
   "cell_type": "code",
   "execution_count": null,
   "id": "a74132fb",
   "metadata": {},
   "outputs": [],
   "source": [
    "df[\"percent_delay\"]"
   ]
  },
  {
   "cell_type": "code",
   "execution_count": 66,
   "id": "0b04d0da",
   "metadata": {},
   "outputs": [
    {
     "data": {
      "text/plain": [
       "count    121373.000000\n",
       "mean        -29.735566\n",
       "std         206.591444\n",
       "min       -2919.565217\n",
       "25%         -14.838710\n",
       "50%          -4.864865\n",
       "75%           6.172840\n",
       "max         100.000000\n",
       "Name: percent_delay, dtype: float64"
      ]
     },
     "execution_count": 66,
     "metadata": {},
     "output_type": "execute_result"
    }
   ],
   "source": [
    "df[\"percent_delay\"].describe()"
   ]
  },
  {
   "cell_type": "code",
   "execution_count": 42,
   "id": "ccfe3939",
   "metadata": {},
   "outputs": [
    {
     "data": {
      "text/plain": [
       "<AxesSubplot:>"
      ]
     },
     "execution_count": 42,
     "metadata": {},
     "output_type": "execute_result"
    },
    {
     "data": {
      "image/png": "[encoded data removed]",
      "text/plain": [
       "<Figure size 432x288 with 1 Axes>"
      ]
     },
     "metadata": {
      "needs_background": "light"
     },
     "output_type": "display_data"
    }
   ],
   "source": [
    "df[\"percent_delay\"].plot.box()"
   ]
  },
  {
   "cell_type": "code",
   "execution_count": 74,
   "id": "eaaf70aa",
   "metadata": {},
   "outputs": [],
   "source": [
    "minrow= df['percent_delay'].argmin()"
   ]
  },
  {
   "cell_type": "code",
   "execution_count": 78,
   "id": "14f9b583",
   "metadata": {},
   "outputs": [
    {
     "data": {
      "text/plain": [
       "Unnamed: 0                      60788\n",
       "datetime_val      2013-04-01 20:40:00\n",
       "dep_time          2013-04-01 22:45:00\n",
       "arr_time          2013-04-01 23:31:00\n",
       "sched_arr_time    2013-04-02 21:54:00\n",
       "flight                           1178\n",
       "origin                            EWR\n",
       "dest                              BOS\n",
       "air_time              0 days 00:46:00\n",
       "delay               -1 days +01:37:00\n",
       "percent_delay                -2919.57\n",
       "Name: 59583, dtype: object"
      ]
     },
     "execution_count": 78,
     "metadata": {},
     "output_type": "execute_result"
    }
   ],
   "source": [
    "df.iloc[minrow]"
   ]
  },
  {
   "cell_type": "code",
   "execution_count": 43,
   "id": "221166af",
   "metadata": {},
   "outputs": [],
   "source": [
    "from pandas.api.types import is_numeric_dtype\n",
    "def remove_outlier(df):\n",
    "    low = .05\n",
    "    high = .95\n",
    "    quant_df = df.quantile([low, high])\n",
    "    if is_numeric_dtype(df):\n",
    "        df = df[(df > quant_df.loc[low]) & (df < quant_df.loc[high])]\n",
    "    return df\n"
   ]
  },
  {
   "cell_type": "code",
   "execution_count": 44,
   "id": "521c30e5",
   "metadata": {},
   "outputs": [],
   "source": [
    "df[\"percent_delay\"] = remove_outlier(df[\"percent_delay\"])"
   ]
  },
  {
   "cell_type": "code",
   "execution_count": 51,
   "id": "d3a6b9ec",
   "metadata": {},
   "outputs": [
    {
     "data": {
      "text/plain": [
       "count    109235.000000\n",
       "mean         -3.763476\n",
       "std          15.290651\n",
       "min         -39.333333\n",
       "25%         -13.636364\n",
       "50%          -4.864865\n",
       "75%           4.694836\n",
       "max          42.424242\n",
       "Name: percent_delay, dtype: float64"
      ]
     },
     "execution_count": 51,
     "metadata": {},
     "output_type": "execute_result"
    }
   ],
   "source": [
    "df[\"percent_delay\"].describe()"
   ]
  },
  {
   "cell_type": "code",
   "execution_count": 46,
   "id": "5209cc2a",
   "metadata": {},
   "outputs": [
    {
     "data": {
      "text/plain": [
       "<AxesSubplot:>"
      ]
     },
     "execution_count": 46,
     "metadata": {},
     "output_type": "execute_result"
    },
    {
     "data": {
      "image/png": "[encoded data removed]",
      "text/plain": [
       "<Figure size 432x288 with 1 Axes>"
      ]
     },
     "metadata": {
      "needs_background": "light"
     },
     "output_type": "display_data"
    }
   ],
   "source": [
    "df[\"percent_delay\"].plot.line()"
   ]
  },
  {
   "cell_type": "code",
   "execution_count": 47,
   "id": "729f0485",
   "metadata": {},
   "outputs": [
    {
     "data": {
      "text/plain": [
       "<AxesSubplot:>"
      ]
     },
     "execution_count": 47,
     "metadata": {},
     "output_type": "execute_result"
    },
    {
     "data": {
      "image/png": "[encoded data removed]",
      "text/plain": [
       "<Figure size 432x288 with 1 Axes>"
      ]
     },
     "metadata": {
      "needs_background": "light"
     },
     "output_type": "display_data"
    }
   ],
   "source": [
    "df[\"percent_delay\"].plot.box()"
   ]
  },
  {
   "cell_type": "code",
   "execution_count": 48,
   "id": "82dd66ec",
   "metadata": {},
   "outputs": [
    {
     "data": {
      "text/plain": [
       "count    109235.000000\n",
       "mean         -3.763476\n",
       "std          15.290651\n",
       "min         -39.333333\n",
       "25%         -13.636364\n",
       "50%          -4.864865\n",
       "75%           4.694836\n",
       "max          42.424242\n",
       "Name: percent_delay, dtype: float64"
      ]
     },
     "execution_count": 48,
     "metadata": {},
     "output_type": "execute_result"
    }
   ],
   "source": [
    "df[\"percent_delay\"].describe()"
   ]
  },
  {
   "cell_type": "code",
   "execution_count": null,
   "id": "133850fa",
   "metadata": {},
   "outputs": [],
   "source": []
  },
  {
   "cell_type": "code",
   "execution_count": null,
   "id": "71921844",
   "metadata": {},
   "outputs": [],
   "source": []
  }
 ],
 "metadata": {
  "kernelspec": {
   "display_name": "Python 3 (ipykernel)",
   "language": "python",
   "name": "python3"
  },
  "language_info": {
   "codemirror_mode": {
    "name": "ipython",
    "version": 3
   },
   "file_extension": ".py",
   "mimetype": "text/x-python",
   "name": "python",
   "nbconvert_exporter": "python",
   "pygments_lexer": "ipython3",
   "version": "3.8.11"
  }
 },
 "nbformat": 4,
 "nbformat_minor": 5
}
